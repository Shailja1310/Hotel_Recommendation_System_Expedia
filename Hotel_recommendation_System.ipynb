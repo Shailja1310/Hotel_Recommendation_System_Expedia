{
  "nbformat": 4,
  "nbformat_minor": 0,
  "metadata": {
    "colab": {
      "name": "Hotel_recommendation_System.ipynb",
      "provenance": [],
      "collapsed_sections": [],
      "authorship_tag": "ABX9TyNgXPYoXlikza3xlj7jPu49",
      "include_colab_link": true
    },
    "kernelspec": {
      "name": "python3",
      "display_name": "Python 3"
    },
    "accelerator": "GPU"
  },
  "cells": [
    {
      "cell_type": "markdown",
      "metadata": {
        "id": "view-in-github",
        "colab_type": "text"
      },
      "source": [
        "<a href=\"https://colab.research.google.com/github/Shailja1310/Hotel_Recommendation_System_Expedia/blob/master/Hotel_recommendation_System.ipynb\" target=\"_parent\"><img src=\"https://colab.research.google.com/assets/colab-badge.svg\" alt=\"Open In Colab\"/></a>"
      ]
    },
    {
      "cell_type": "markdown",
      "metadata": {
        "id": "1AMHa2MzKDxP",
        "colab_type": "text"
      },
      "source": [
        "connecting to kaggle to load the dataset"
      ]
    },
    {
      "cell_type": "code",
      "metadata": {
        "id": "T3hCO4j6vGlA",
        "colab_type": "code",
        "colab": {
          "base_uri": "https://localhost:8080/",
          "height": 155
        },
        "outputId": "7a08b339-0d0d-4290-d160-6491c844e18a"
      },
      "source": [
        "!pip install -q kaggle\n",
        "!mkdir .kaggle\n",
        "#!mkdir -p ~/.kaggle\n",
        "import json\n",
        "token = {\"username\":\"<username>\",\"key\":\"<your_key>\"}\n",
        "with open('/content/.kaggle/kaggle.json', 'w') as file:\n",
        "    json.dump(token, file)\n",
        "    !kaggle config set -n path -v{/content}\n",
        "!cp /content/.kaggle/kaggle.json ~/.kaggle/kaggle.json\n",
        "#!ls ~/.kaggle\n",
        "!chmod 600 /root/.kaggle/kaggle.json  # set permission"
      ],
      "execution_count": null,
      "outputs": [
        {
          "output_type": "stream",
          "text": [
            "Traceback (most recent call last):\n",
            "  File \"/usr/local/bin/kaggle\", line 5, in <module>\n",
            "    from kaggle.cli import main\n",
            "  File \"/usr/local/lib/python2.7/dist-packages/kaggle/__init__.py\", line 23, in <module>\n",
            "    api.authenticate()\n",
            "  File \"/usr/local/lib/python2.7/dist-packages/kaggle/api/kaggle_api_extended.py\", line 146, in authenticate\n",
            "    self.config_file, self.config_dir))\n",
            "IOError: Could not find kaggle.json. Make sure it's located in /root/.kaggle. Or use the environment method.\n"
          ],
          "name": "stdout"
        }
      ]
    },
    {
      "cell_type": "markdown",
      "metadata": {
        "id": "7uGEWCuoKJ5j",
        "colab_type": "text"
      },
      "source": [
        "Download the dataset"
      ]
    },
    {
      "cell_type": "code",
      "metadata": {
        "id": "8FbcpthTvXBG",
        "colab_type": "code",
        "colab": {
          "base_uri": "https://localhost:8080/",
          "height": 242
        },
        "outputId": "7670f0ae-5b14-433c-99b4-9c609d633db2"
      },
      "source": [
        "!kaggle competitions download -c expedia-hotel-recommendations -p /content"
      ],
      "execution_count": null,
      "outputs": [
        {
          "output_type": "stream",
          "text": [
            "Warning: Looks like you're using an outdated API Version, please consider updating (server 1.5.6 / client 1.5.4)\n",
            "Downloading train.csv.zip to /content\n",
            " 99% 580M/584M [00:26<00:00, 16.0MB/s]\n",
            "100% 584M/584M [00:26<00:00, 23.2MB/s]\n",
            "Downloading test.csv.zip to /content\n",
            " 98% 76.0M/77.4M [00:03<00:00, 23.1MB/s]\n",
            "100% 77.4M/77.4M [00:03<00:00, 24.8MB/s]\n",
            "Downloading sample_submission.csv.zip to /content\n",
            "  0% 0.00/5.67M [00:00<?, ?B/s]\n",
            "100% 5.67M/5.67M [00:00<00:00, 52.1MB/s]\n",
            "Downloading destinations.csv.zip to /content\n",
            " 87% 17.0M/19.5M [00:00<00:00, 17.7MB/s]\n",
            "100% 19.5M/19.5M [00:00<00:00, 23.6MB/s]\n"
          ],
          "name": "stdout"
        }
      ]
    },
    {
      "cell_type": "code",
      "metadata": {
        "id": "S7RgPaV4vaEv",
        "colab_type": "code",
        "colab": {
          "base_uri": "https://localhost:8080/",
          "height": 242
        },
        "outputId": "9a7df583-61e8-4c84-c2a1-34bbd3de4cee"
      },
      "source": [
        "!unzip \\*.zip"
      ],
      "execution_count": null,
      "outputs": [
        {
          "output_type": "stream",
          "text": [
            "Archive:  sample_submission.csv.zip\n",
            "  inflating: sample_submission.csv   \n",
            "\n",
            "Archive:  test.csv.zip\n",
            "  inflating: test.csv                \n",
            "\n",
            "Archive:  train.csv.zip\n",
            "  inflating: train.csv               \n",
            "\n",
            "Archive:  destinations.csv.zip\n",
            "  inflating: destinations.csv        \n",
            "\n",
            "4 archives were successfully processed.\n"
          ],
          "name": "stdout"
        }
      ]
    },
    {
      "cell_type": "markdown",
      "metadata": {
        "id": "Sdjz1a5dKN41",
        "colab_type": "text"
      },
      "source": [
        "Install Required Libraries"
      ]
    },
    {
      "cell_type": "code",
      "metadata": {
        "id": "7r7uBV9be6_m",
        "colab_type": "code",
        "colab": {
          "base_uri": "https://localhost:8080/",
          "height": 279
        },
        "outputId": "0918329a-68ab-4e42-eaca-deff60f32a43"
      },
      "source": [
        "!pip install ml_metrics\n",
        "import datetime\n",
        "import pandas as pd\n",
        "import numpy as np\n",
        "import matplotlib.pyplot as plt\n",
        "%matplotlib inline\n",
        "\n",
        "from sklearn.ensemble import RandomForestClassifier\n",
        "from sklearn.model_selection import train_test_split\n",
        "import ml_metrics as metrics\n",
        "\n",
        "from sklearn.model_selection import train_test_split\n",
        "from sklearn.metrics import accuracy_score"
      ],
      "execution_count": null,
      "outputs": [
        {
          "output_type": "stream",
          "text": [
            "Collecting ml_metrics\n",
            "  Downloading https://files.pythonhosted.org/packages/c1/e7/c31a2dd37045a0c904bee31c2dbed903d4f125a6ce980b91bae0c961abb8/ml_metrics-0.1.4.tar.gz\n",
            "Requirement already satisfied: numpy in /usr/local/lib/python3.6/dist-packages (from ml_metrics) (1.18.5)\n",
            "Requirement already satisfied: pandas in /usr/local/lib/python3.6/dist-packages (from ml_metrics) (1.0.5)\n",
            "Requirement already satisfied: pytz>=2017.2 in /usr/local/lib/python3.6/dist-packages (from pandas->ml_metrics) (2018.9)\n",
            "Requirement already satisfied: python-dateutil>=2.6.1 in /usr/local/lib/python3.6/dist-packages (from pandas->ml_metrics) (2.8.1)\n",
            "Requirement already satisfied: six>=1.5 in /usr/local/lib/python3.6/dist-packages (from python-dateutil>=2.6.1->pandas->ml_metrics) (1.15.0)\n",
            "Building wheels for collected packages: ml-metrics\n",
            "  Building wheel for ml-metrics (setup.py) ... \u001b[?25l\u001b[?25hdone\n",
            "  Created wheel for ml-metrics: filename=ml_metrics-0.1.4-cp36-none-any.whl size=7850 sha256=05dc90d420c7873c5eff2fb81a60254112749f021511dde143b52657e225772d\n",
            "  Stored in directory: /root/.cache/pip/wheels/b3/61/2d/776be7b8a4f14c5db48c8e5451451cabc58dc6aa7ee3801163\n",
            "Successfully built ml-metrics\n",
            "Installing collected packages: ml-metrics\n",
            "Successfully installed ml-metrics-0.1.4\n"
          ],
          "name": "stdout"
        }
      ]
    },
    {
      "cell_type": "markdown",
      "metadata": {
        "id": "vWMa1elHeee8",
        "colab_type": "text"
      },
      "source": [
        "**data visualisation**"
      ]
    },
    {
      "cell_type": "code",
      "metadata": {
        "id": "lb44DQ2CJZsC",
        "colab_type": "code",
        "colab": {
          "base_uri": "https://localhost:8080/",
          "height": 333
        },
        "outputId": "a15d9b57-0f46-40a9-9e15-b54a88d4eafa"
      },
      "source": [
        "import matplotlib.pyplot as plt\n",
        "df1=pd.read_csv('train.csv', nrows=500)\n",
        "df1.head()\n",
        "(markers, stemlines, baseline) = plt.stem(df1.hotel_cluster)\n",
        "plt.setp(markers, marker='D', markersize=1, markeredgecolor=\"orange\", markeredgewidth=2)\n",
        "plt.xlabel('Entry')\n",
        "plt.ylabel('Hotel Cluster')\n",
        "plt.show()\n"
      ],
      "execution_count": null,
      "outputs": [
        {
          "output_type": "stream",
          "text": [
            "/usr/local/lib/python3.6/dist-packages/ipykernel_launcher.py:4: UserWarning: In Matplotlib 3.3 individual lines on a stem plot will be added as a LineCollection instead of individual lines. This significantly improves the performance of a stem plot. To remove this warning and switch to the new behaviour, set the \"use_line_collection\" keyword argument to True.\n",
            "  after removing the cwd from sys.path.\n"
          ],
          "name": "stderr"
        },
        {
          "output_type": "display_data",
          "data": {
            "image/png": "[encoded data removed]",
            "text/plain": [
              "<Figure size 432x288 with 1 Axes>"
            ]
          },
          "metadata": {
            "tags": [],
            "needs_background": "light"
          }
        }
      ]
    },
    {
      "cell_type": "code",
      "metadata": {
        "id": "bN2znIYcdpEM",
        "colab_type": "code",
        "colab": {
          "base_uri": "https://localhost:8080/",
          "height": 742
        },
        "outputId": "2151ed41-b11c-4830-e249-04534c1a3aa1"
      },
      "source": [
        "import numpy as np\n",
        "import pandas as pd\n",
        "import seaborn as sns\n",
        "import matplotlib.pyplot as plt\n",
        "\n",
        "sns.set(style=\"white\")\n",
        "\n",
        "#compute Correlation matrix\n",
        "corr = df1.corr()\n",
        "# Generate a mask for the upper triangle\n",
        "mask = np.triu(np.ones_like(corr, dtype=np.bool))\n",
        "# Set up the matplotlib figure\n",
        "f, ax = plt.subplots(figsize=(11, 9))\n",
        "# Generate a custom diverging colormap\n",
        "cmap = sns.diverging_palette(220, 10, as_cmap=True)\n",
        "# Draw the heatmap with the mask and correct aspect ratio\n",
        "sns.heatmap(corr,  cmap=cmap,mask=mask, vmax=.3, center=0,\n",
        "            square=True, linewidths=.5, cbar_kws={\"shrink\": .5})"
      ],
      "execution_count": null,
      "outputs": [
        {
          "output_type": "stream",
          "text": [
            "/usr/local/lib/python3.6/dist-packages/statsmodels/tools/_testing.py:19: FutureWarning: pandas.util.testing is deprecated. Use the functions in the public API at pandas.testing instead.\n",
            "  import pandas.util.testing as tm\n"
          ],
          "name": "stderr"
        },
        {
          "output_type": "execute_result",
          "data": {
            "text/plain": [
              "<matplotlib.axes._subplots.AxesSubplot at 0x7f6b10e97d68>"
            ]
          },
          "metadata": {
            "tags": []
          },
          "execution_count": 6
        },
        {
          "output_type": "display_data",
          "data": {
            "image/png": "[encoded data removed]",
            "text/plain": [
              "<Figure size 792x648 with 2 Axes>"
            ]
          },
          "metadata": {
            "tags": []
          }
        }
      ]
    },
    {
      "cell_type": "markdown",
      "metadata": {
        "id": "K3Du8LOWKUDd",
        "colab_type": "text"
      },
      "source": [
        "Data Pre-Processing"
      ]
    },
    {
      "cell_type": "code",
      "metadata": {
        "id": "nIoqVUCkveKk",
        "colab_type": "code",
        "colab": {}
      },
      "source": [
        "import pandas as pd\n",
        "import numpy as np\n",
        "dtype={'is_booking':bool,\n",
        "        'srch_ci' : np.str_,\n",
        "        'srch_co' : np.str_,\n",
        "        'srch_adults_cnt' : np.int32,\n",
        "        'srch_children_cnt' : np.int32,\n",
        "        'srch_rm_cnt' : np.int32,\n",
        "        'srch_destination_id':np.int64,\n",
        "        'hotel_cluster' : np.int64,\n",
        "        'date_time':np.int64,\n",
        "        'hotel_market':np.int64}"
      ],
      "execution_count": null,
      "outputs": []
    },
    {
      "cell_type": "code",
      "metadata": {
        "id": "iPBfO9p4vggX",
        "colab_type": "code",
        "colab": {
          "base_uri": "https://localhost:8080/",
          "height": 285
        },
        "outputId": "e8af2763-dd34-43c1-a358-3a8c17012b78"
      },
      "source": [
        "df0 = pd.read_csv('train.csv',dtype=dtype,usecols=dtype, parse_dates=['date_time'] ,sep=',',nrows=200000)\n",
        "df0.head()\n"
      ],
      "execution_count": null,
      "outputs": [
        {
          "output_type": "execute_result",
          "data": {
            "text/html": [
              "<div>\n",
              "<style scoped>\n",
              "    .dataframe tbody tr th:only-of-type {\n",
              "        vertical-align: middle;\n",
              "    }\n",
              "\n",
              "    .dataframe tbody tr th {\n",
              "        vertical-align: top;\n",
              "    }\n",
              "\n",
              "    .dataframe thead th {\n",
              "        text-align: right;\n",
              "    }\n",
              "</style>\n",
              "<table border=\"1\" class=\"dataframe\">\n",
              "  <thead>\n",
              "    <tr style=\"text-align: right;\">\n",
              "      <th></th>\n",
              "      <th>date_time</th>\n",
              "      <th>srch_ci</th>\n",
              "      <th>srch_co</th>\n",
              "      <th>srch_adults_cnt</th>\n",
              "      <th>srch_children_cnt</th>\n",
              "      <th>srch_rm_cnt</th>\n",
              "      <th>srch_destination_id</th>\n",
              "      <th>is_booking</th>\n",
              "      <th>hotel_market</th>\n",
              "      <th>hotel_cluster</th>\n",
              "    </tr>\n",
              "  </thead>\n",
              "  <tbody>\n",
              "    <tr>\n",
              "      <th>0</th>\n",
              "      <td>2014-08-11 07:46:59</td>\n",
              "      <td>2014-08-27</td>\n",
              "      <td>2014-08-31</td>\n",
              "      <td>2</td>\n",
              "      <td>0</td>\n",
              "      <td>1</td>\n",
              "      <td>8250</td>\n",
              "      <td>False</td>\n",
              "      <td>628</td>\n",
              "      <td>1</td>\n",
              "    </tr>\n",
              "    <tr>\n",
              "      <th>1</th>\n",
              "      <td>2014-08-11 08:22:12</td>\n",
              "      <td>2014-08-29</td>\n",
              "      <td>2014-09-02</td>\n",
              "      <td>2</td>\n",
              "      <td>0</td>\n",
              "      <td>1</td>\n",
              "      <td>8250</td>\n",
              "      <td>True</td>\n",
              "      <td>628</td>\n",
              "      <td>1</td>\n",
              "    </tr>\n",
              "    <tr>\n",
              "      <th>2</th>\n",
              "      <td>2014-08-11 08:24:33</td>\n",
              "      <td>2014-08-29</td>\n",
              "      <td>2014-09-02</td>\n",
              "      <td>2</td>\n",
              "      <td>0</td>\n",
              "      <td>1</td>\n",
              "      <td>8250</td>\n",
              "      <td>False</td>\n",
              "      <td>628</td>\n",
              "      <td>1</td>\n",
              "    </tr>\n",
              "    <tr>\n",
              "      <th>3</th>\n",
              "      <td>2014-08-09 18:05:16</td>\n",
              "      <td>2014-11-23</td>\n",
              "      <td>2014-11-28</td>\n",
              "      <td>2</td>\n",
              "      <td>0</td>\n",
              "      <td>1</td>\n",
              "      <td>14984</td>\n",
              "      <td>False</td>\n",
              "      <td>1457</td>\n",
              "      <td>80</td>\n",
              "    </tr>\n",
              "    <tr>\n",
              "      <th>4</th>\n",
              "      <td>2014-08-09 18:08:18</td>\n",
              "      <td>2014-11-23</td>\n",
              "      <td>2014-11-28</td>\n",
              "      <td>2</td>\n",
              "      <td>0</td>\n",
              "      <td>1</td>\n",
              "      <td>14984</td>\n",
              "      <td>False</td>\n",
              "      <td>1457</td>\n",
              "      <td>21</td>\n",
              "    </tr>\n",
              "  </tbody>\n",
              "</table>\n",
              "</div>"
            ],
            "text/plain": [
              "            date_time     srch_ci  ... hotel_market  hotel_cluster\n",
              "0 2014-08-11 07:46:59  2014-08-27  ...          628              1\n",
              "1 2014-08-11 08:22:12  2014-08-29  ...          628              1\n",
              "2 2014-08-11 08:24:33  2014-08-29  ...          628              1\n",
              "3 2014-08-09 18:05:16  2014-11-23  ...         1457             80\n",
              "4 2014-08-09 18:08:18  2014-11-23  ...         1457             21\n",
              "\n",
              "[5 rows x 10 columns]"
            ]
          },
          "metadata": {
            "tags": []
          },
          "execution_count": 8
        }
      ]
    },
    {
      "cell_type": "code",
      "metadata": {
        "id": "k-xa3o1NegIH",
        "colab_type": "code",
        "colab": {
          "base_uri": "https://localhost:8080/",
          "height": 553
        },
        "outputId": "4b031376-0333-4dd0-e173-f86ccc60ca6f"
      },
      "source": [
        "# take data from 2014 as sampling 50%\n",
        "df0['year']=df0['date_time'].dt.year\n",
        "train = df0.query('is_booking==True' )#& year==2013')\n",
        "train['srch_ci']=pd.to_datetime(train['srch_ci'],infer_datetime_format = True,errors='coerce')\n",
        "train['srch_co']=pd.to_datetime(train['srch_co'],infer_datetime_format = True,errors='coerce')\n",
        "\n",
        "train['month']= train['date_time'].dt.month\n",
        "train['plan_time'] = ((train['srch_ci']-train['date_time'])/np.timedelta64(1,'D')).astype(float)\n",
        "train['hotel_nights']=((train['srch_co']-train['srch_ci'])/np.timedelta64(1,'D')).astype(float)\n",
        "train.shape"
      ],
      "execution_count": null,
      "outputs": [
        {
          "output_type": "stream",
          "text": [
            "/usr/local/lib/python3.6/dist-packages/ipykernel_launcher.py:4: SettingWithCopyWarning: \n",
            "A value is trying to be set on a copy of a slice from a DataFrame.\n",
            "Try using .loc[row_indexer,col_indexer] = value instead\n",
            "\n",
            "See the caveats in the documentation: https://pandas.pydata.org/pandas-docs/stable/user_guide/indexing.html#returning-a-view-versus-a-copy\n",
            "  after removing the cwd from sys.path.\n",
            "/usr/local/lib/python3.6/dist-packages/ipykernel_launcher.py:5: SettingWithCopyWarning: \n",
            "A value is trying to be set on a copy of a slice from a DataFrame.\n",
            "Try using .loc[row_indexer,col_indexer] = value instead\n",
            "\n",
            "See the caveats in the documentation: https://pandas.pydata.org/pandas-docs/stable/user_guide/indexing.html#returning-a-view-versus-a-copy\n",
            "  \"\"\"\n",
            "/usr/local/lib/python3.6/dist-packages/ipykernel_launcher.py:7: SettingWithCopyWarning: \n",
            "A value is trying to be set on a copy of a slice from a DataFrame.\n",
            "Try using .loc[row_indexer,col_indexer] = value instead\n",
            "\n",
            "See the caveats in the documentation: https://pandas.pydata.org/pandas-docs/stable/user_guide/indexing.html#returning-a-view-versus-a-copy\n",
            "  import sys\n",
            "/usr/local/lib/python3.6/dist-packages/ipykernel_launcher.py:8: SettingWithCopyWarning: \n",
            "A value is trying to be set on a copy of a slice from a DataFrame.\n",
            "Try using .loc[row_indexer,col_indexer] = value instead\n",
            "\n",
            "See the caveats in the documentation: https://pandas.pydata.org/pandas-docs/stable/user_guide/indexing.html#returning-a-view-versus-a-copy\n",
            "  \n",
            "/usr/local/lib/python3.6/dist-packages/ipykernel_launcher.py:9: SettingWithCopyWarning: \n",
            "A value is trying to be set on a copy of a slice from a DataFrame.\n",
            "Try using .loc[row_indexer,col_indexer] = value instead\n",
            "\n",
            "See the caveats in the documentation: https://pandas.pydata.org/pandas-docs/stable/user_guide/indexing.html#returning-a-view-versus-a-copy\n",
            "  if __name__ == '__main__':\n"
          ],
          "name": "stderr"
        },
        {
          "output_type": "execute_result",
          "data": {
            "text/plain": [
              "(16669, 14)"
            ]
          },
          "metadata": {
            "tags": []
          },
          "execution_count": 9
        }
      ]
    },
    {
      "cell_type": "code",
      "metadata": {
        "id": "p3on2QBzen3V",
        "colab_type": "code",
        "colab": {
          "base_uri": "https://localhost:8080/",
          "height": 198
        },
        "outputId": "a1add54c-4cec-4660-8224-743cd4f2cebd"
      },
      "source": [
        "y=train['hotel_cluster']\n",
        "X=train.drop(['hotel_cluster','is_booking','year','month','date_time','srch_ci','srch_co'],axis=1) # in training dataset, have clicking and booking event\n",
        "X.head()"
      ],
      "execution_count": null,
      "outputs": [
        {
          "output_type": "execute_result",
          "data": {
            "text/html": [
              "<div>\n",
              "<style scoped>\n",
              "    .dataframe tbody tr th:only-of-type {\n",
              "        vertical-align: middle;\n",
              "    }\n",
              "\n",
              "    .dataframe tbody tr th {\n",
              "        vertical-align: top;\n",
              "    }\n",
              "\n",
              "    .dataframe thead th {\n",
              "        text-align: right;\n",
              "    }\n",
              "</style>\n",
              "<table border=\"1\" class=\"dataframe\">\n",
              "  <thead>\n",
              "    <tr style=\"text-align: right;\">\n",
              "      <th></th>\n",
              "      <th>srch_adults_cnt</th>\n",
              "      <th>srch_children_cnt</th>\n",
              "      <th>srch_rm_cnt</th>\n",
              "      <th>srch_destination_id</th>\n",
              "      <th>hotel_market</th>\n",
              "      <th>plan_time</th>\n",
              "      <th>hotel_nights</th>\n",
              "    </tr>\n",
              "  </thead>\n",
              "  <tbody>\n",
              "    <tr>\n",
              "      <th>1</th>\n",
              "      <td>2</td>\n",
              "      <td>0</td>\n",
              "      <td>1</td>\n",
              "      <td>8250</td>\n",
              "      <td>628</td>\n",
              "      <td>17.651250</td>\n",
              "      <td>4.0</td>\n",
              "    </tr>\n",
              "    <tr>\n",
              "      <th>20</th>\n",
              "      <td>2</td>\n",
              "      <td>0</td>\n",
              "      <td>1</td>\n",
              "      <td>8291</td>\n",
              "      <td>191</td>\n",
              "      <td>49.248935</td>\n",
              "      <td>2.0</td>\n",
              "    </tr>\n",
              "    <tr>\n",
              "      <th>27</th>\n",
              "      <td>2</td>\n",
              "      <td>0</td>\n",
              "      <td>1</td>\n",
              "      <td>1385</td>\n",
              "      <td>185</td>\n",
              "      <td>82.348553</td>\n",
              "      <td>8.0</td>\n",
              "    </tr>\n",
              "    <tr>\n",
              "      <th>72</th>\n",
              "      <td>2</td>\n",
              "      <td>0</td>\n",
              "      <td>1</td>\n",
              "      <td>8803</td>\n",
              "      <td>69</td>\n",
              "      <td>214.248380</td>\n",
              "      <td>2.0</td>\n",
              "    </tr>\n",
              "    <tr>\n",
              "      <th>79</th>\n",
              "      <td>3</td>\n",
              "      <td>0</td>\n",
              "      <td>2</td>\n",
              "      <td>12009</td>\n",
              "      <td>680</td>\n",
              "      <td>49.312303</td>\n",
              "      <td>5.0</td>\n",
              "    </tr>\n",
              "  </tbody>\n",
              "</table>\n",
              "</div>"
            ],
            "text/plain": [
              "    srch_adults_cnt  srch_children_cnt  ...   plan_time  hotel_nights\n",
              "1                 2                  0  ...   17.651250           4.0\n",
              "20                2                  0  ...   49.248935           2.0\n",
              "27                2                  0  ...   82.348553           8.0\n",
              "72                2                  0  ...  214.248380           2.0\n",
              "79                3                  0  ...   49.312303           5.0\n",
              "\n",
              "[5 rows x 7 columns]"
            ]
          },
          "metadata": {
            "tags": []
          },
          "execution_count": 10
        }
      ]
    },
    {
      "cell_type": "code",
      "metadata": {
        "id": "dH17jSHEev5X",
        "colab_type": "code",
        "colab": {
          "base_uri": "https://localhost:8080/",
          "height": 121
        },
        "outputId": "5a221a96-83d3-43bc-e1b8-1e191235eae2"
      },
      "source": [
        "y.head()"
      ],
      "execution_count": null,
      "outputs": [
        {
          "output_type": "execute_result",
          "data": {
            "text/plain": [
              "1      1\n",
              "20     2\n",
              "27    58\n",
              "72    36\n",
              "79    95\n",
              "Name: hotel_cluster, dtype: int64"
            ]
          },
          "metadata": {
            "tags": []
          },
          "execution_count": 11
        }
      ]
    },
    {
      "cell_type": "markdown",
      "metadata": {
        "id": "224XOHKEKblv",
        "colab_type": "text"
      },
      "source": [
        "Splitting into train and test"
      ]
    },
    {
      "cell_type": "code",
      "metadata": {
        "id": "ll2OM4Yeez_e",
        "colab_type": "code",
        "colab": {}
      },
      "source": [
        "X_train, X_test, y_train, y_test = train_test_split(X,y, test_size=0.20)"
      ],
      "execution_count": null,
      "outputs": []
    },
    {
      "cell_type": "code",
      "metadata": {
        "id": "JtqJypQlfKYi",
        "colab_type": "code",
        "colab": {
          "base_uri": "https://localhost:8080/",
          "height": 34
        },
        "outputId": "4c76b95d-b7b6-483d-d79c-683a92433660"
      },
      "source": [
        "X_train.shape, X_test.shape, y_train.shape, y_test.shape"
      ],
      "execution_count": null,
      "outputs": [
        {
          "output_type": "execute_result",
          "data": {
            "text/plain": [
              "((13335, 7), (3334, 7), (13335,), (3334,))"
            ]
          },
          "metadata": {
            "tags": []
          },
          "execution_count": 13
        }
      ]
    },
    {
      "cell_type": "markdown",
      "metadata": {
        "id": "M-iiF4t2KjDC",
        "colab_type": "text"
      },
      "source": [
        "Building Model_KNN"
      ]
    },
    {
      "cell_type": "code",
      "metadata": {
        "id": "P0ZF0ozcgn0F",
        "colab_type": "code",
        "colab": {}
      },
      "source": [
        "from sklearn.neighbors import KNeighborsClassifier\n",
        "from sklearn import metrics\n",
        "k_range = range(1,20)\n",
        "scores={}\n",
        "scores_list=[]\n",
        "for k in k_range:\n",
        "  knn_test=KNeighborsClassifier(n_neighbors=k)\n",
        "  knn_test.fit(X_train,y_train)\n",
        "  yhat_knn_test=knn_test.predict(X_test)\n",
        "  scores[k]=metrics.accuracy_score(y_test,yhat_knn_test)\n",
        "  scores_list.append(metrics.accuracy_score(y_test,yhat_knn_test))\n"
      ],
      "execution_count": null,
      "outputs": []
    },
    {
      "cell_type": "code",
      "metadata": {
        "id": "5xELmgoeszhQ",
        "colab_type": "code",
        "colab": {
          "base_uri": "https://localhost:8080/",
          "height": 302
        },
        "outputId": "ac2bcd96-ec4f-4a64-f3a0-02575b4f383a"
      },
      "source": [
        "%matplotlib inline\n",
        "import matplotlib.pyplot as plt\n",
        "plt.plot(k_range,scores_list)\n",
        "plt.xlabel('k for knn')\n",
        "plt.ylabel('testing accuracy')"
      ],
      "execution_count": null,
      "outputs": [
        {
          "output_type": "execute_result",
          "data": {
            "text/plain": [
              "Text(0, 0.5, 'testing accuracy')"
            ]
          },
          "metadata": {
            "tags": []
          },
          "execution_count": 15
        },
        {
          "output_type": "display_data",
          "data": {
            "image/png": "[encoded data removed]",
            "text/plain": [
              "<Figure size 432x288 with 1 Axes>"
            ]
          },
          "metadata": {
            "tags": [],
            "needs_background": "light"
          }
        }
      ]
    },
    {
      "cell_type": "code",
      "metadata": {
        "id": "V0quaTKHLHll",
        "colab_type": "code",
        "colab": {
          "base_uri": "https://localhost:8080/",
          "height": 34
        },
        "outputId": "5702904e-94f0-4216-a3b6-79af9dc8f763"
      },
      "source": [
        "#Final KNN Model\n",
        "knn=KNeighborsClassifier(n_neighbors=7)\n",
        "knn.fit(X_train,y_train)\n",
        "yhat_knn=knn.predict(X_test)\n",
        "accuracy_knn = accuracy_score(y_test, yhat_knn)\n",
        "print(\"Accuracy: %.2f%%\" % (accuracy_knn * 100.0))"
      ],
      "execution_count": null,
      "outputs": [
        {
          "output_type": "stream",
          "text": [
            "Accuracy: 11.61%\n"
          ],
          "name": "stdout"
        }
      ]
    },
    {
      "cell_type": "markdown",
      "metadata": {
        "id": "5fEB2qNcu4v5",
        "colab_type": "text"
      },
      "source": [
        "**Building Model-------XGBoost**\n",
        "\n",
        "\n",
        "\n",
        "\n"
      ]
    },
    {
      "cell_type": "code",
      "metadata": {
        "id": "fypOpr_mvUS5",
        "colab_type": "code",
        "colab": {
          "base_uri": "https://localhost:8080/",
          "height": 69
        },
        "outputId": "af35572e-1519-4cad-ecd3-7919a0af3394"
      },
      "source": [
        "!pip install XGBoost"
      ],
      "execution_count": null,
      "outputs": [
        {
          "output_type": "stream",
          "text": [
            "Requirement already satisfied: XGBoost in /usr/local/lib/python3.6/dist-packages (0.90)\n",
            "Requirement already satisfied: scipy in /usr/local/lib/python3.6/dist-packages (from XGBoost) (1.4.1)\n",
            "Requirement already satisfied: numpy in /usr/local/lib/python3.6/dist-packages (from XGBoost) (1.18.5)\n"
          ],
          "name": "stdout"
        }
      ]
    },
    {
      "cell_type": "code",
      "metadata": {
        "id": "7B5-It2mu4Pe",
        "colab_type": "code",
        "colab": {}
      },
      "source": [
        "from numpy import loadtxt\n",
        "from xgboost import XGBClassifier"
      ],
      "execution_count": null,
      "outputs": []
    },
    {
      "cell_type": "code",
      "metadata": {
        "id": "IiuFwPEHvdVC",
        "colab_type": "code",
        "colab": {
          "base_uri": "https://localhost:8080/",
          "height": 138
        },
        "outputId": "4e5d9162-b3da-4e0f-be01-c72fb1eff52a"
      },
      "source": [
        "\n",
        "# fit model no training data\n",
        "model = XGBClassifier()\n",
        "model.fit(X_train, y_train)"
      ],
      "execution_count": null,
      "outputs": [
        {
          "output_type": "execute_result",
          "data": {
            "text/plain": [
              "XGBClassifier(base_score=0.5, booster='gbtree', colsample_bylevel=1,\n",
              "              colsample_bynode=1, colsample_bytree=1, gamma=0,\n",
              "              learning_rate=0.1, max_delta_step=0, max_depth=3,\n",
              "              min_child_weight=1, missing=None, n_estimators=100, n_jobs=1,\n",
              "              nthread=None, objective='multi:softprob', random_state=0,\n",
              "              reg_alpha=0, reg_lambda=1, scale_pos_weight=1, seed=None,\n",
              "              silent=None, subsample=1, verbosity=1)"
            ]
          },
          "metadata": {
            "tags": []
          },
          "execution_count": 19
        }
      ]
    },
    {
      "cell_type": "code",
      "metadata": {
        "id": "V8lir-HH5sPd",
        "colab_type": "code",
        "colab": {}
      },
      "source": [
        "# make predictions for test data\n",
        "y_pred = model.predict(X_test)\n",
        "predictions = [round(value) for value in y_pred]\n"
      ],
      "execution_count": null,
      "outputs": []
    },
    {
      "cell_type": "code",
      "metadata": {
        "id": "uKtw4JTs5xjp",
        "colab_type": "code",
        "colab": {
          "base_uri": "https://localhost:8080/",
          "height": 34
        },
        "outputId": "e103ff57-2921-48d2-d923-a239bcacace6"
      },
      "source": [
        "# evaluate predictions\n",
        "accuracy = accuracy_score(y_test, predictions)\n",
        "print(\"Accuracy: %.2f%%\" % (accuracy * 100.0))"
      ],
      "execution_count": null,
      "outputs": [
        {
          "output_type": "stream",
          "text": [
            "Accuracy: 12.93%\n"
          ],
          "name": "stdout"
        }
      ]
    },
    {
      "cell_type": "markdown",
      "metadata": {
        "id": "9If0xlG57JPM",
        "colab_type": "text"
      },
      "source": [
        "**Ada boost**"
      ]
    },
    {
      "cell_type": "code",
      "metadata": {
        "id": "sPGl8afj7Evi",
        "colab_type": "code",
        "colab": {
          "base_uri": "https://localhost:8080/",
          "height": 52
        },
        "outputId": "b77c56d2-a56c-4957-dbe6-8c70e7fcbc9e"
      },
      "source": [
        "from sklearn.ensemble import AdaBoostClassifier\n",
        "from sklearn.datasets import make_classification\n",
        "#X, y = make_classification(n_samples = 1000, n_features = 10,n_informative = 2, n_redundant = 0,random_state = 0, shuffle = False)\n",
        "ADBclf = AdaBoostClassifier(n_estimators = 100, random_state = 0)\n",
        "ADBclf.fit(X_train, y_train)"
      ],
      "execution_count": null,
      "outputs": [
        {
          "output_type": "execute_result",
          "data": {
            "text/plain": [
              "AdaBoostClassifier(algorithm='SAMME.R', base_estimator=None, learning_rate=1.0,\n",
              "                   n_estimators=100, random_state=0)"
            ]
          },
          "metadata": {
            "tags": []
          },
          "execution_count": 22
        }
      ]
    },
    {
      "cell_type": "code",
      "metadata": {
        "id": "hsX-XoXF7bes",
        "colab_type": "code",
        "colab": {}
      },
      "source": [
        "yhat_ada=ADBclf.predict(X_test)"
      ],
      "execution_count": null,
      "outputs": []
    },
    {
      "cell_type": "code",
      "metadata": {
        "id": "oCog3sxP7jRp",
        "colab_type": "code",
        "colab": {
          "base_uri": "https://localhost:8080/",
          "height": 34
        },
        "outputId": "b1c93fdc-bb63-4a70-c6df-53dcdb23e9c2"
      },
      "source": [
        "# evaluate predictions\n",
        "accuracy = accuracy_score(y_test, yhat_ada)\n",
        "print(\"Accuracy: %.2f%%\" % (accuracy * 100.0))"
      ],
      "execution_count": null,
      "outputs": [
        {
          "output_type": "stream",
          "text": [
            "Accuracy: 5.70%\n"
          ],
          "name": "stdout"
        }
      ]
    },
    {
      "cell_type": "markdown",
      "metadata": {
        "id": "vjNRz9QK7wQq",
        "colab_type": "text"
      },
      "source": [
        "**`gradient tree boosting`**"
      ]
    },
    {
      "cell_type": "code",
      "metadata": {
        "id": "ktHkcU5v7qL8",
        "colab_type": "code",
        "colab": {
          "base_uri": "https://localhost:8080/",
          "height": 34
        },
        "outputId": "8137c348-6738-434d-94d8-5cbfb32dc0c4"
      },
      "source": [
        "from sklearn.datasets import make_hastie_10_2\n",
        "from sklearn.ensemble import GradientBoostingClassifier\n",
        "GDBclf = GradientBoostingClassifier(n_estimators = 50, learning_rate = 1.0,max_depth = 1, random_state = 0).fit(X_train, y_train)\n",
        "GDBclf.score(X_test, y_test)"
      ],
      "execution_count": null,
      "outputs": [
        {
          "output_type": "execute_result",
          "data": {
            "text/plain": [
              "0.015896820635872826"
            ]
          },
          "metadata": {
            "tags": []
          },
          "execution_count": 25
        }
      ]
    },
    {
      "cell_type": "code",
      "metadata": {
        "id": "J8sG4QMm8HMd",
        "colab_type": "code",
        "colab": {}
      },
      "source": [
        "yhat_GBTree=ADBclf.predict(X_test)"
      ],
      "execution_count": null,
      "outputs": []
    },
    {
      "cell_type": "code",
      "metadata": {
        "id": "RN9gzSuo8Mkr",
        "colab_type": "code",
        "colab": {
          "base_uri": "https://localhost:8080/",
          "height": 34
        },
        "outputId": "88d474d8-814a-49ef-d93d-7f6b7b0939dc"
      },
      "source": [
        "# evaluate predictions\n",
        "accuracy = accuracy_score(y_test, yhat_GBTree)\n",
        "print(\"Accuracy: %.2f%%\" % (accuracy * 100.0))"
      ],
      "execution_count": null,
      "outputs": [
        {
          "output_type": "stream",
          "text": [
            "Accuracy: 5.70%\n"
          ],
          "name": "stdout"
        }
      ]
    },
    {
      "cell_type": "markdown",
      "metadata": {
        "id": "H_lCE2rWDd42",
        "colab_type": "text"
      },
      "source": [
        "**Random Forest**"
      ]
    },
    {
      "cell_type": "code",
      "metadata": {
        "id": "evgYcSJFDjNe",
        "colab_type": "code",
        "colab": {
          "base_uri": "https://localhost:8080/",
          "height": 155
        },
        "outputId": "94bca364-3857-49d5-8219-dd1e40c8a399"
      },
      "source": [
        "from sklearn.ensemble import RandomForestClassifier\n",
        "rf_tree = RandomForestClassifier(n_estimators=31,max_depth=10,random_state=123)\n",
        "rf_tree.fit(X_train,y_train)"
      ],
      "execution_count": null,
      "outputs": [
        {
          "output_type": "execute_result",
          "data": {
            "text/plain": [
              "RandomForestClassifier(bootstrap=True, ccp_alpha=0.0, class_weight=None,\n",
              "                       criterion='gini', max_depth=10, max_features='auto',\n",
              "                       max_leaf_nodes=None, max_samples=None,\n",
              "                       min_impurity_decrease=0.0, min_impurity_split=None,\n",
              "                       min_samples_leaf=1, min_samples_split=2,\n",
              "                       min_weight_fraction_leaf=0.0, n_estimators=31,\n",
              "                       n_jobs=None, oob_score=False, random_state=123,\n",
              "                       verbose=0, warm_start=False)"
            ]
          },
          "metadata": {
            "tags": []
          },
          "execution_count": 28
        }
      ]
    },
    {
      "cell_type": "code",
      "metadata": {
        "id": "CfyYXklrD4ZT",
        "colab_type": "code",
        "colab": {
          "base_uri": "https://localhost:8080/",
          "height": 138
        },
        "outputId": "2347ada3-139b-420e-e32e-07ca450f3943"
      },
      "source": [
        "y_pred=rf_tree.predict_proba(X_test) # predict on test dataset\n",
        "a=y_pred.argsort(axis=1)[:,-1:]\n",
        "a"
      ],
      "execution_count": null,
      "outputs": [
        {
          "output_type": "execute_result",
          "data": {
            "text/plain": [
              "array([[ 1],\n",
              "       [40],\n",
              "       [91],\n",
              "       ...,\n",
              "       [30],\n",
              "       [59],\n",
              "       [91]])"
            ]
          },
          "metadata": {
            "tags": []
          },
          "execution_count": 29
        }
      ]
    },
    {
      "cell_type": "code",
      "metadata": {
        "id": "P7pAAyV9FZjK",
        "colab_type": "code",
        "colab": {
          "base_uri": "https://localhost:8080/",
          "height": 34
        },
        "outputId": "c76109eb-891c-4e12-fae0-c50949a96a91"
      },
      "source": [
        "# evaluate predictions\n",
        "accuracy = accuracy_score(y_test, a)\n",
        "print(\"Accuracy: %.2f%%\" % (accuracy * 100.0))"
      ],
      "execution_count": null,
      "outputs": [
        {
          "output_type": "stream",
          "text": [
            "Accuracy: 12.15%\n"
          ],
          "name": "stdout"
        }
      ]
    },
    {
      "cell_type": "code",
      "metadata": {
        "id": "wBECug2YKE2Z",
        "colab_type": "code",
        "colab": {
          "base_uri": "https://localhost:8080/",
          "height": 285
        },
        "outputId": "2732e470-11a6-4d3e-dd35-280ea900ff20"
      },
      "source": [
        "#feature importance\n",
        "importance = rf_tree.feature_importances_\n",
        "indices=np.argsort(importance)[::-1][:7]\n",
        "importance[indices]\n",
        "\n",
        "plt.barh(range(7), importance[indices],color='r')\n",
        "plt.yticks(range(7),X_train.columns[indices])\n",
        "plt.xlabel('Feature Importance')\n",
        "plt.show()"
      ],
      "execution_count": null,
      "outputs": [
        {
          "output_type": "display_data",
          "data": {
            "image/png": "[encoded data removed]",
            "text/plain": [
              "<Figure size 432x288 with 1 Axes>"
            ]
          },
          "metadata": {
            "tags": [],
            "needs_background": "light"
          }
        }
      ]
    },
    {
      "cell_type": "markdown",
      "metadata": {
        "id": "iHMGALksFwKN",
        "colab_type": "text"
      },
      "source": [
        "**Naive_bayes**\n"
      ]
    },
    {
      "cell_type": "code",
      "metadata": {
        "id": "nv4v6sa3F4Ns",
        "colab_type": "code",
        "colab": {}
      },
      "source": [
        "def to_categorical_plan_time(column_list=[]):\n",
        "  new_list=[]\n",
        "  for x in column_list:\n",
        "    if (x<50.0):\n",
        "      new_list.append(0)\n",
        "    elif (x>50.0 and x<100.0):\n",
        "      new_list.append(1)\n",
        "    elif (x>100.0 and x<150.0):\n",
        "      new_list.append(2)\n",
        "    else:\n",
        "      new_list.append(3)\n",
        "  return new_list"
      ],
      "execution_count": null,
      "outputs": []
    },
    {
      "cell_type": "code",
      "metadata": {
        "id": "g4hfx5bBNZ9l",
        "colab_type": "code",
        "colab": {
          "base_uri": "https://localhost:8080/",
          "height": 198
        },
        "outputId": "4f8a9ef9-e123-4a6b-9483-0242412f1c23"
      },
      "source": [
        "X.head()"
      ],
      "execution_count": null,
      "outputs": [
        {
          "output_type": "execute_result",
          "data": {
            "text/html": [
              "<div>\n",
              "<style scoped>\n",
              "    .dataframe tbody tr th:only-of-type {\n",
              "        vertical-align: middle;\n",
              "    }\n",
              "\n",
              "    .dataframe tbody tr th {\n",
              "        vertical-align: top;\n",
              "    }\n",
              "\n",
              "    .dataframe thead th {\n",
              "        text-align: right;\n",
              "    }\n",
              "</style>\n",
              "<table border=\"1\" class=\"dataframe\">\n",
              "  <thead>\n",
              "    <tr style=\"text-align: right;\">\n",
              "      <th></th>\n",
              "      <th>srch_adults_cnt</th>\n",
              "      <th>srch_children_cnt</th>\n",
              "      <th>srch_rm_cnt</th>\n",
              "      <th>srch_destination_id</th>\n",
              "      <th>hotel_market</th>\n",
              "      <th>plan_time</th>\n",
              "      <th>hotel_nights</th>\n",
              "    </tr>\n",
              "  </thead>\n",
              "  <tbody>\n",
              "    <tr>\n",
              "      <th>1</th>\n",
              "      <td>2</td>\n",
              "      <td>0</td>\n",
              "      <td>1</td>\n",
              "      <td>8250</td>\n",
              "      <td>628</td>\n",
              "      <td>17.651250</td>\n",
              "      <td>4.0</td>\n",
              "    </tr>\n",
              "    <tr>\n",
              "      <th>20</th>\n",
              "      <td>2</td>\n",
              "      <td>0</td>\n",
              "      <td>1</td>\n",
              "      <td>8291</td>\n",
              "      <td>191</td>\n",
              "      <td>49.248935</td>\n",
              "      <td>2.0</td>\n",
              "    </tr>\n",
              "    <tr>\n",
              "      <th>27</th>\n",
              "      <td>2</td>\n",
              "      <td>0</td>\n",
              "      <td>1</td>\n",
              "      <td>1385</td>\n",
              "      <td>185</td>\n",
              "      <td>82.348553</td>\n",
              "      <td>8.0</td>\n",
              "    </tr>\n",
              "    <tr>\n",
              "      <th>72</th>\n",
              "      <td>2</td>\n",
              "      <td>0</td>\n",
              "      <td>1</td>\n",
              "      <td>8803</td>\n",
              "      <td>69</td>\n",
              "      <td>214.248380</td>\n",
              "      <td>2.0</td>\n",
              "    </tr>\n",
              "    <tr>\n",
              "      <th>79</th>\n",
              "      <td>3</td>\n",
              "      <td>0</td>\n",
              "      <td>2</td>\n",
              "      <td>12009</td>\n",
              "      <td>680</td>\n",
              "      <td>49.312303</td>\n",
              "      <td>5.0</td>\n",
              "    </tr>\n",
              "  </tbody>\n",
              "</table>\n",
              "</div>"
            ],
            "text/plain": [
              "    srch_adults_cnt  srch_children_cnt  ...   plan_time  hotel_nights\n",
              "1                 2                  0  ...   17.651250           4.0\n",
              "20                2                  0  ...   49.248935           2.0\n",
              "27                2                  0  ...   82.348553           8.0\n",
              "72                2                  0  ...  214.248380           2.0\n",
              "79                3                  0  ...   49.312303           5.0\n",
              "\n",
              "[5 rows x 7 columns]"
            ]
          },
          "metadata": {
            "tags": []
          },
          "execution_count": 33
        }
      ]
    },
    {
      "cell_type": "code",
      "metadata": {
        "id": "6Ts715XWF5CF",
        "colab_type": "code",
        "colab": {
          "base_uri": "https://localhost:8080/",
          "height": 224
        },
        "outputId": "289f2ec7-8ad3-4bd8-c428-e2a92feeb343"
      },
      "source": [
        "X['categorical_plan_time']=to_categorical_plan_time(X['plan_time'].tolist())\n",
        "print(X['categorical_plan_time'])"
      ],
      "execution_count": null,
      "outputs": [
        {
          "output_type": "stream",
          "text": [
            "1         0\n",
            "20        0\n",
            "27        1\n",
            "72        3\n",
            "79        0\n",
            "         ..\n",
            "199961    0\n",
            "199965    0\n",
            "199970    0\n",
            "199984    0\n",
            "199996    0\n",
            "Name: categorical_plan_time, Length: 16669, dtype: int64\n"
          ],
          "name": "stdout"
        }
      ]
    },
    {
      "cell_type": "code",
      "metadata": {
        "id": "htLCAOB3IiU0",
        "colab_type": "code",
        "colab": {
          "base_uri": "https://localhost:8080/",
          "height": 242
        },
        "outputId": "fb81ce1e-d825-4013-b81c-68e6b085f621"
      },
      "source": [
        "X_trainNB, X_testNB, y_trainNB, y_testNB = train_test_split(X,y, test_size=0.20)\n",
        "print(X_train.head(),y_train.head())"
      ],
      "execution_count": null,
      "outputs": [
        {
          "output_type": "stream",
          "text": [
            "        srch_adults_cnt  srch_children_cnt  ...  plan_time  hotel_nights\n",
            "26830                 1                  0  ...   6.641192           2.0\n",
            "146318                1                  0  ...   5.769560           2.0\n",
            "146945                1                  0  ...   0.300799           1.0\n",
            "87540                 2                  0  ...  11.456169           2.0\n",
            "193543                1                  0  ...  19.525139           1.0\n",
            "\n",
            "[5 rows x 7 columns] 26830      6\n",
            "146318    82\n",
            "146945    23\n",
            "87540     28\n",
            "193543    50\n",
            "Name: hotel_cluster, dtype: int64\n"
          ],
          "name": "stdout"
        }
      ]
    },
    {
      "cell_type": "code",
      "metadata": {
        "id": "LaExK3GTIYw6",
        "colab_type": "code",
        "colab": {}
      },
      "source": [
        "from sklearn.naive_bayes import GaussianNB\n",
        "from sklearn.metrics import accuracy_score\n",
        "model=GaussianNB()\n",
        "model.fit(X_train,y_train)\n",
        "yhat_NB=model.predict(X_test)"
      ],
      "execution_count": null,
      "outputs": []
    },
    {
      "cell_type": "code",
      "metadata": {
        "id": "yzsVJdXhI-W7",
        "colab_type": "code",
        "colab": {
          "base_uri": "https://localhost:8080/",
          "height": 34
        },
        "outputId": "7a680cc9-029b-4755-a683-ff8328c6b376"
      },
      "source": [
        "accuracy = accuracy_score(y_test, yhat_NB)\n",
        "print(\"Accuracy: %.2f%%\" % (accuracy * 100.0))"
      ],
      "execution_count": null,
      "outputs": [
        {
          "output_type": "stream",
          "text": [
            "Accuracy: 4.95%\n"
          ],
          "name": "stdout"
        }
      ]
    },
    {
      "cell_type": "markdown",
      "metadata": {
        "id": "IQ4Uc83VJYhl",
        "colab_type": "text"
      },
      "source": [
        "**MODEL_____SVM**"
      ]
    },
    {
      "cell_type": "code",
      "metadata": {
        "id": "k_QspqqSJX8S",
        "colab_type": "code",
        "colab": {
          "base_uri": "https://localhost:8080/",
          "height": 86
        },
        "outputId": "0cbaea44-624c-4551-8e09-490e7ed38cdd"
      },
      "source": [
        "from sklearn import svm\n",
        "clf = svm.SVC(kernel='rbf')\n",
        "clf.fit(X_train, y_train) "
      ],
      "execution_count": null,
      "outputs": [
        {
          "output_type": "execute_result",
          "data": {
            "text/plain": [
              "SVC(C=1.0, break_ties=False, cache_size=200, class_weight=None, coef0=0.0,\n",
              "    decision_function_shape='ovr', degree=3, gamma='scale', kernel='rbf',\n",
              "    max_iter=-1, probability=False, random_state=None, shrinking=True,\n",
              "    tol=0.001, verbose=False)"
            ]
          },
          "metadata": {
            "tags": []
          },
          "execution_count": 38
        }
      ]
    },
    {
      "cell_type": "code",
      "metadata": {
        "id": "iKn5jyMzJeH6",
        "colab_type": "code",
        "colab": {}
      },
      "source": [
        "yhat_SVM = clf.predict(X_test)"
      ],
      "execution_count": null,
      "outputs": []
    },
    {
      "cell_type": "code",
      "metadata": {
        "id": "zcqGlMTOJlsW",
        "colab_type": "code",
        "colab": {
          "base_uri": "https://localhost:8080/",
          "height": 34
        },
        "outputId": "6c95c3a9-cdb8-4370-ae81-3a2104229f3d"
      },
      "source": [
        "accuracy = accuracy_score(y_test, yhat_SVM)\n",
        "print(\"Accuracy: %.2f%%\" % (accuracy * 100.0))"
      ],
      "execution_count": null,
      "outputs": [
        {
          "output_type": "stream",
          "text": [
            "Accuracy: 4.14%\n"
          ],
          "name": "stdout"
        }
      ]
    },
    {
      "cell_type": "markdown",
      "metadata": {
        "id": "TBLhVh0jOUqK",
        "colab_type": "text"
      },
      "source": [
        "**Building Ensemble-1 : Stacking**"
      ]
    },
    {
      "cell_type": "code",
      "metadata": {
        "id": "B1798r8rX3rw",
        "colab_type": "code",
        "colab": {}
      },
      "source": [
        "level0 = list()\n",
        "level0.append(('XGB', XGBClassifier()))\n",
        "level0.append(('knn', KNeighborsClassifier(n_neighbors=2)))\n",
        "level0.append(('bayes', GaussianNB()))"
      ],
      "execution_count": null,
      "outputs": []
    },
    {
      "cell_type": "code",
      "metadata": {
        "id": "iNWXsRNNbnFv",
        "colab_type": "code",
        "colab": {}
      },
      "source": [
        "level1 = RandomForestClassifier(n_estimators=31,max_depth=10,random_state=123)"
      ],
      "execution_count": null,
      "outputs": []
    },
    {
      "cell_type": "code",
      "metadata": {
        "id": "n6uFGUQub-MF",
        "colab_type": "code",
        "colab": {
          "base_uri": "https://localhost:8080/",
          "height": 34
        },
        "outputId": "c3515a12-9250-47df-e5fa-93a4c6686493"
      },
      "source": [
        "from sklearn.ensemble import StackingClassifier\n",
        "model_f = StackingClassifier(estimators=level0, final_estimator =level1, cv=5)\n",
        "model_f.fit(X_train, y_train)\n",
        "yhat_f = model_f.predict(X_test)\n",
        "accuracy = accuracy_score(y_test, yhat_f)\n",
        "print(\"Accuracy: %.2f%%\" % (accuracy * 100.0))"
      ],
      "execution_count": null,
      "outputs": [
        {
          "output_type": "stream",
          "text": [
            "Accuracy: 11.40%\n"
          ],
          "name": "stdout"
        }
      ]
    },
    {
      "cell_type": "markdown",
      "metadata": {
        "id": "HQYUfTrkbgMQ",
        "colab_type": "text"
      },
      "source": [
        "### **SAMPLE INPUT**"
      ]
    },
    {
      "cell_type": "code",
      "metadata": {
        "id": "bP89jua9jCMR",
        "colab_type": "code",
        "colab": {}
      },
      "source": [
        " inputt={}\n",
        " inputt['srch_adults_cnt']=2 #Number of adults\n",
        " inputt['srch_children_cnt']=3 #number of children\n",
        " inputt['srch_rm_cnt']=1 #No. of rooms\n",
        " inputt['srch_destination_id']=8250 # Destination of Stay\n",
        " inputt['hotel_market']=325 # Hotel Market\n",
        " inputt['plan_time']=17.65 # Total Plan Time\n",
        " inputt['hotel_nights']=2.0 # Number of nights of stay\n",
        " df_check=pd.DataFrame(inputt,index=[0])\n"
      ],
      "execution_count": null,
      "outputs": []
    },
    {
      "cell_type": "markdown",
      "metadata": {
        "id": "2Cen0a77dIgW",
        "colab_type": "text"
      },
      "source": [
        "**SAMPLE OUTPUT : Ensemble 1**"
      ]
    },
    {
      "cell_type": "code",
      "metadata": {
        "id": "-vcmYWPBdFyd",
        "colab_type": "code",
        "colab": {
          "base_uri": "https://localhost:8080/",
          "height": 34
        },
        "outputId": "20d657ac-c2ba-422b-914f-93b63f26885b"
      },
      "source": [
        " print('Predicted Hotel cluster :',model_f.predict(df_check))"
      ],
      "execution_count": null,
      "outputs": [
        {
          "output_type": "stream",
          "text": [
            "Predicted Hotel cluster : [91]\n"
          ],
          "name": "stdout"
        }
      ]
    },
    {
      "cell_type": "code",
      "metadata": {
        "id": "vjQxar2SrIlT",
        "colab_type": "code",
        "colab": {}
      },
      "source": [
        "def CountFrequency(my_list): \n",
        "      \n",
        "    # Creating an empty dictionary  \n",
        "    freq = {} \n",
        "    for items in my_list: \n",
        "        freq[items] = my_list.count(items) \n",
        "      \n",
        "    for key, value in freq.items(): \n",
        "        print (\"% d : % d\"%(key, value)) "
      ],
      "execution_count": null,
      "outputs": []
    },
    {
      "cell_type": "markdown",
      "metadata": {
        "id": "tDH-3W3ab7m9",
        "colab_type": "text"
      },
      "source": [
        "**Buliding----Ensemble-2 : Max-Voting**"
      ]
    },
    {
      "cell_type": "code",
      "metadata": {
        "id": "HnEQQCMinIu_",
        "colab_type": "code",
        "colab": {}
      },
      "source": [
        "import numpy as np\n",
        "import time\n",
        "\n",
        "time_tot=time.clock()\n",
        "def Ensemble_2(input_data):\n",
        "  print('********** Ensemble 2 Running ********\\n')\n",
        "  freq={}\n",
        "  final_arr=[]\n",
        "\n",
        "  time_start = time.clock()\n",
        "  print('********** Random Forest Classifier Running ********\\t')\n",
        "  model_1 = RandomForestClassifier(n_estimators=31,max_depth=10,random_state=123)#first Model : random Forest\n",
        "  rf_tree.fit(X_train,y_train)\n",
        "  y_pred=rf_tree.predict_proba(input_data) # predict on test dataset\n",
        "  a=y_pred.argsort(axis=1)[:,-5:] #get the top 5 probabilities\n",
        "  for i in range(0,len(a)):#append that into our final array\n",
        "    for j in range(0,len(a[i])):\n",
        "      final_arr.append(a[i][j])\n",
        "  print('Computational time :', (time.clock()-time_start),'\\n')\n",
        "\n",
        "  time_start = time.clock()\n",
        "  print('********** KNN Running ********\\t')\n",
        "  model_2=KNeighborsClassifier(n_neighbors=2)# Model 2 KNN\n",
        "  model_2.fit(X_train,y_train)\n",
        "  final_arr.append(model_2.predict(input_data)[0])#append the result to final array\n",
        "  print('Computational time :', (time.clock()-time_start),'\\n')\n",
        "  \n",
        "  time_start = time.clock()\n",
        "  print('********* XGB running *********\\t')\n",
        "  model_3=XGBClassifier()# Model 3 XGBoost\n",
        "  model_3.fit(X_train,y_train)\n",
        "  final_arr.append(model_3.predict(input_data)[0])#append the result to final array\n",
        "  print('Computational time :', (time.clock()-time_start),'\\n')\n",
        "  \n",
        "  time_start = time.clock()\n",
        "  print('********** Ada_Boost Running ********\\t')\n",
        "  model_4=AdaBoostClassifier(n_estimators = 100, random_state = 0)# Model 4 Ada-Boost\n",
        "  model_4.fit(X_train,y_train)\n",
        "  final_arr.append(model_4.predict(input_data)[0])#append the result to final array\n",
        "  print('Computational time :', (time.clock()-time_start),'\\n')\n",
        "  \n",
        "  #time_start = time.clock()\n",
        "  #print('********** Gradient Boost Running ********\\t')\n",
        "  #model_5=GradientBoostingClassifier(n_estimators = 50, learning_rate = 1.0,max_depth = 1, random_state = 0)# Model 5 GB tree \n",
        "  #model_5.fit(X_train,y_train)\n",
        "  #final_arr.append(model_5.predict(input_data)[0])#append the result to final array\n",
        "  #print('Computational time :', (time.clock()-time_start),'\\n')\n",
        "  \n",
        "  time_start = time.clock()\n",
        "  print('********** Naive Bayes Running ********\\t')\n",
        "  model_6=GaussianNB()# Model 6 Naive Bayes\n",
        "  model_6.fit(X_train,y_train)\n",
        "  final_arr.append(model_6.predict(input_data)[0])#append the result to final array\n",
        "  print('Computational time :', (time.clock()-time_start),'\\n')\n",
        "  \n",
        "  time_start = time.clock()\n",
        "  print('********** SVM Running ********\\t')\n",
        "  model_7=svm.SVC(kernel='rbf')# Model 7 SVM\n",
        "  model_7.fit(X_train,y_train)\n",
        "  final_arr.append(model_7.predict(input_data)[0])#append the result to final array\n",
        "  print('Computational time :', (time.clock()-time_start),'\\n')\n",
        " \n",
        "  #time_start = time.clock()\n",
        "  #print('********** Ensemble-1 Running ********\\t')\n",
        "  #model_8=StackingClassifier(estimators=level0, final_estimator =level1, cv=5)# Model 8 Ensemble-1\n",
        "  #model_8.fit(X_train,y_train)\n",
        "  #final_arr.append(model_8.predict(input_data)[0])#append the result to final array\n",
        "  #print('Computational time :', (time.clock()-time_start),'\\n')\n",
        "  \n",
        "\n",
        "  #print('\\n Final Array:',final_arr)\n",
        "  #print('\\n')\n",
        "\n",
        "\n",
        "  #calculate frequency of each prediction\n",
        "  def Count_Frequency(my_list): \n",
        "  \n",
        "    # Creating an empty dictionary  \n",
        "    freq = {} \n",
        "    for item in my_list: \n",
        "        if (item in freq): \n",
        "            freq[item] += 1\n",
        "        else: \n",
        "            freq[item] = 1\n",
        "  \n",
        "    return freq\n",
        "  \n",
        "  freq=Count_Frequency(final_arr)\n",
        "  #print('\\nFrequency of predicted classes : ',freq)\n",
        "\n",
        "  #get max frequency element\n",
        "  def get_max_freq(freq):\n",
        "    c=0\n",
        "    max_ele=0\n",
        "    for key in freq:\n",
        "      if (freq[key]>c) :\n",
        "        max_ele=key\n",
        "        c=freq[key]\n",
        "    del freq[max_ele]\n",
        "    return max_ele\n",
        "  print('\\nEnsemble 2 Computational time :', (time.clock()-time_tot),'\\n')\n",
        "  #print the top 5 predictions\n",
        "  print('\\nSuggested Hotel Clusters for you are :','\\t')\n",
        "  for k in range(0,5):\n",
        "    print(get_max_freq(freq),end=\" \")\n"
      ],
      "execution_count": null,
      "outputs": []
    },
    {
      "cell_type": "markdown",
      "metadata": {
        "id": "GQAu52t-fPax",
        "colab_type": "text"
      },
      "source": [
        "**SAMPLE OUTPUT WITH ENSEMBLE 2**"
      ]
    },
    {
      "cell_type": "code",
      "metadata": {
        "id": "5BQPmmSAp_hE",
        "colab_type": "code",
        "colab": {
          "base_uri": "https://localhost:8080/",
          "height": 466
        },
        "outputId": "916b8cf1-6c50-4409-bf7b-b88875c1694c"
      },
      "source": [
        "Ensemble_2(df_check)"
      ],
      "execution_count": null,
      "outputs": [
        {
          "output_type": "stream",
          "text": [
            "********** Ensemble 2 Running ********\n",
            "\n",
            "********** Random Forest Classifier Running ********\t\n",
            "Computational time : 0.6452709999999797 \n",
            "\n",
            "********** KNN Running ********\t\n",
            "Computational time : 0.01806900000008227 \n",
            "\n",
            "********* XGB running *********\t\n",
            "Computational time : 51.850668999999925 \n",
            "\n",
            "********** Ada_Boost Running ********\t\n",
            "Computational time : 5.726658999999927 \n",
            "\n",
            "********** Naive Bayes Running ********\t\n",
            "Computational time : 0.02054899999995996 \n",
            "\n",
            "********** SVM Running ********\t\n",
            "Computational time : 15.329791999999998 \n",
            "\n",
            "\n",
            "Ensemble 2 Computational time : 73.601227 \n",
            "\n",
            "\n",
            "Suggested Hotel Clusters for you are : \t\n",
            "91 82 15 46 47 "
          ],
          "name": "stdout"
        }
      ]
    }
  ]
}